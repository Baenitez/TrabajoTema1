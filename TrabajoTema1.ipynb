{
 "cells": [
  {
   "cell_type": "markdown",
   "metadata": {},
   "source": [
    "<h1><center>Trabajo Tema 1</center></h1>"
   ]
  },
  {
   "cell_type": "markdown",
   "metadata": {},
   "source": [
    "## 1. Un juego de lanzamiento de una moneda"
   ]
  },
  {
   "cell_type": "markdown",
   "metadata": {},
   "source": [
    "> **1.** Cada jugada del juego consiste en lanzar repetidamente una moneda imparcial hasta que la diferencia entre el número de caras lanzadas y el número de sellos es 3.\n",
    "\n",
    "> **2.** Si decides jugar el juego, debes pagar 1 por cada lanzamiento de la moneda. No puedes salir durante una jugada del juego.\n",
    "\n",
    "> **3.** Usted recibe 8 al final de cada juego del juego. Por lo tanto, ganas dinero si el número de lanzamientos requeridos es menor a 8, pero pierdes dinero si se requieren más de 8 lanzamientos."
   ]
  },
  {
   "cell_type": "markdown",
   "metadata": {},
   "source": [
    "#### Código"
   ]
  },
  {
   "cell_type": "code",
   "execution_count": 45,
   "metadata": {
    "collapsed": true
   },
   "outputs": [],
   "source": [
    "import numpy as np\n",
    "# Sea 0 cara y 1 sello\n",
    "tg = []\n",
    "for j in range(1000):\n",
    "    c,s,t = 0,0,0\n",
    "    while s-c != abs(3):\n",
    "        x = np.random.randint(0,2)\n",
    "        if x == 0:\n",
    "            c += 1\n",
    "        else:\n",
    "            s += 1\n",
    "        t += 1\n",
    "        if s-c == abs(3):\n",
    "            tg.append(t)\n",
    "            break\n",
    "        else:\n",
    "            continue\n",
    "    j+=1"
   ]
  },
  {
   "cell_type": "code",
   "execution_count": 98,
   "metadata": {},
   "outputs": [
    {
     "name": "stdout",
     "output_type": "stream",
     "text": [
      "2472.738\n",
      "23751.6201526\n"
     ]
    }
   ],
   "source": [
    "# Pregunta 1\n",
    "print(np.mean(tg))\n",
    "print(np.std(tg))\n",
    "import matplotlib.pyplot as plt\n",
    "%matplotlib inline"
   ]
  },
  {
   "cell_type": "markdown",
   "metadata": {},
   "source": [
    "## 2. Kitchen appliances"
   ]
  },
  {
   "cell_type": "markdown",
   "metadata": {},
   "source": [
    "Máquinas vendidas|2|3|4|5|6|\n",
    "-----------------|-|-|-|-|-|\n",
    "Número de días|4|7|8|5|1|"
   ]
  },
  {
   "cell_type": "markdown",
   "metadata": {},
   "source": [
    "#### Código"
   ]
  },
  {
   "cell_type": "code",
   "execution_count": 115,
   "metadata": {},
   "outputs": [
    {
     "name": "stdout",
     "output_type": "stream",
     "text": [
      "3.68\n"
     ]
    }
   ],
   "source": [
    "m = [2,3,4,5,6]\n",
    "d = [4,7,8,5,1]\n",
    "prob = d/np.sum(d)\n",
    "prom = np.sum((m*prob))\n",
    "print(prom)"
   ]
  },
  {
   "cell_type": "markdown",
   "metadata": {},
   "source": [
    "## 3. Rustbelt Manufacturing Company"
   ]
  },
  {
   "cell_type": "code",
   "execution_count": null,
   "metadata": {
    "collapsed": true
   },
   "outputs": [],
   "source": []
  }
 ],
 "metadata": {
  "kernelspec": {
   "display_name": "Python 3",
   "language": "python",
   "name": "python3"
  },
  "language_info": {
   "codemirror_mode": {
    "name": "ipython",
    "version": 3
   },
   "file_extension": ".py",
   "mimetype": "text/x-python",
   "name": "python",
   "nbconvert_exporter": "python",
   "pygments_lexer": "ipython3",
   "version": "3.6.3"
  }
 },
 "nbformat": 4,
 "nbformat_minor": 2
}
