{
 "cells": [
  {
   "cell_type": "markdown",
   "metadata": {},
   "source": [
    "<h1><center>Trabajo Tema 1</center></h1>"
   ]
  },
  {
   "cell_type": "markdown",
   "metadata": {},
   "source": [
    "## 1. Un juego de lanzamiento de una moneda"
   ]
  },
  {
   "cell_type": "markdown",
   "metadata": {},
   "source": [
    "> **1.** Cada jugada del juego consiste en lanzar repetidamente una moneda imparcial hasta que la diferencia entre el número de caras lanzadas y el número de sellos es 3.\n",
    "\n",
    "> **2.** Si decides jugar el juego, debes pagar 1 por cada lanzamiento de la moneda. No puedes salir durante una jugada del juego.\n",
    "\n",
    "> **3.** Usted recibe 8 al final de cada juego del juego. Por lo tanto, ganas dinero si el número de lanzamientos requeridos es menor a 8, pero pierdes dinero si se requieren más de 8 lanzamientos."
   ]
  },
  {
   "cell_type": "markdown",
   "metadata": {},
   "source": [
    "#### Código"
   ]
  },
  {
   "cell_type": "code",
   "execution_count": 13,
   "metadata": {},
   "outputs": [],
   "source": [
    "import numpy as np\n",
    "# Sea 0 cara y 1 sello\n",
    "tg = []\n",
    "for j in range(1000):\n",
    "    c,s,t = 0,0,0\n",
    "    while abs(s-c) != 3:\n",
    "        x = np.random.randint(0,2)\n",
    "        if x == 0:\n",
    "            c += 1\n",
    "        else:\n",
    "            s += 1\n",
    "        t += 1\n",
    "    tg.append(t)\n",
    "    j+=1"
   ]
  },
  {
   "cell_type": "code",
   "execution_count": 14,
   "metadata": {},
   "outputs": [
    {
     "name": "stdout",
     "output_type": "stream",
     "text": [
      "La media de los tiros necesarios para ganar es: 9.052\n",
      "La desv std de los tiros ganadores es: 7.29309920404\n"
     ]
    },
    {
     "data": {
      "image/png": "[encoded data removed]",
      "text/plain": [
       "<matplotlib.figure.Figure at 0x28b03580470>"
      ]
     },
     "metadata": {},
     "output_type": "display_data"
    }
   ],
   "source": [
    "# Pregunta 1\n",
    "print('La media de los tiros necesarios para ganar es:',np.mean(tg))\n",
    "print('La desv std de los tiros ganadores es:',np.std(tg))\n",
    "import matplotlib.pyplot as plt\n",
    "%matplotlib inline\n",
    "plt.hist(tg,50,normed = True)\n",
    "plt.xlabel('Tiros ganadores')\n",
    "plt.show()"
   ]
  },
  {
   "cell_type": "markdown",
   "metadata": {},
   "source": [
    "## 2. Kitchen appliances"
   ]
  },
  {
   "cell_type": "markdown",
   "metadata": {},
   "source": [
    "Máquinas vendidas|2|3|4|5|6|\n",
    "-----------------|-|-|-|-|-|\n",
    "Número de días|4|7|8|5|1|"
   ]
  },
  {
   "cell_type": "markdown",
   "metadata": {},
   "source": [
    "#### Código"
   ]
  },
  {
   "cell_type": "code",
   "execution_count": 115,
   "metadata": {},
   "outputs": [
    {
     "name": "stdout",
     "output_type": "stream",
     "text": [
      "3.68\n"
     ]
    }
   ],
   "source": [
    "m = [2,3,4,5,6]\n",
    "d = [4,7,8,5,1]\n",
    "prob = d/np.sum(d)\n",
    "prom = np.sum((m*prob))\n",
    "print(prom)"
   ]
  },
  {
   "cell_type": "markdown",
   "metadata": {},
   "source": [
    "## 3. Rustbelt Manufacturing Company"
   ]
  },
  {
   "cell_type": "markdown",
   "metadata": {
    "collapsed": true
   },
   "source": [
    ">El tiempo requerido por la cuadrilla para reparar una máquina tiene una distribución uniforme durante el intervalo de 0 a dos veces\n",
    "la media, donde la media depende del tamaño de la cuadrilla. La media es de 4 horas con dos miembros de la cuadrilla, 3 horas con tres miembros de la cuadrilla y 2 horas con cuatro miembros de la cuadrilla.\n",
    "El tiempo entre las interrupciones de alguna máquina tiene una distribución uniforme de entre 3.5 y 9 horas."
   ]
  },
  {
   "cell_type": "markdown",
   "metadata": {},
   "source": [
    "## 4. Juego de dados"
   ]
  },
  {
   "cell_type": "markdown",
   "metadata": {},
   "source": [
    ">Él gana si la primera tirada resulta en una suma de 7 u 11 o, alternativamente, si la primera suma es 4, 5, 6, 8, 9 o 10 y la misma suma reaparece antes de que aparezca una suma de 7. Por el contrario, pierde si la primera tirada resulta en una suma de 2, 3 ó 12 o, alternativamente, si la primera suma es 4, 5, 6, 8, 9 o 10 y aparece una suma de 7 antes de la primera suma reaparece."
   ]
  },
  {
   "cell_type": "markdown",
   "metadata": {},
   "source": [
    "## 5. Inversión en Cetes"
   ]
  },
  {
   "cell_type": "markdown",
   "metadata": {},
   "source": [
    ">Promete un rendimiento que va entre el 8 % y el 12 % anual."
   ]
  },
  {
   "cell_type": "code",
   "execution_count": null,
   "metadata": {
    "collapsed": true
   },
   "outputs": [],
   "source": []
  }
 ],
 "metadata": {
  "kernelspec": {
   "display_name": "Python 3",
   "language": "python",
   "name": "python3"
  },
  "language_info": {
   "codemirror_mode": {
    "name": "ipython",
    "version": 3
   },
   "file_extension": ".py",
   "mimetype": "text/x-python",
   "name": "python",
   "nbconvert_exporter": "python",
   "pygments_lexer": "ipython3",
   "version": "3.6.3"
  }
 },
 "nbformat": 4,
 "nbformat_minor": 2
}
